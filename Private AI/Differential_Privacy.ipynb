{
  "nbformat": 4,
  "nbformat_minor": 0,
  "metadata": {
    "colab": {
      "name": "Differential Privacy.ipynb",
      "version": "0.3.2",
      "provenance": [],
      "collapsed_sections": [],
      "include_colab_link": true
    },
    "kernelspec": {
      "name": "python3",
      "display_name": "Python 3"
    }
  },
  "cells": [
    {
      "cell_type": "markdown",
      "metadata": {
        "id": "view-in-github",
        "colab_type": "text"
      },
      "source": [
        "<a href=\"https://colab.research.google.com/github/myidispg/PytorchProjects/blob/master/Private%20AI/Differential_Privacy.ipynb\" target=\"_parent\"><img src=\"https://colab.research.google.com/assets/colab-badge.svg\" alt=\"Open In Colab\"/></a>"
      ]
    },
    {
      "cell_type": "code",
      "metadata": {
        "id": "jxpJr_p4UTXQ",
        "colab_type": "code",
        "colab": {}
      },
      "source": [
        "import numpy as np\n",
        "import torch"
      ],
      "execution_count": 0,
      "outputs": []
    },
    {
      "cell_type": "code",
      "metadata": {
        "id": "P6v-_kQdUYQG",
        "colab_type": "code",
        "colab": {
          "base_uri": "https://localhost:8080/",
          "height": 34
        },
        "outputId": "f638f282-85c6-4b35-cff4-dbfa18f8bd11"
      },
      "source": [
        "db = torch.randn(5000) > 0.5\n",
        "db"
      ],
      "execution_count": 4,
      "outputs": [
        {
          "output_type": "execute_result",
          "data": {
            "text/plain": [
              "tensor([1, 0, 1,  ..., 0, 0, 1], dtype=torch.uint8)"
            ]
          },
          "metadata": {
            "tags": []
          },
          "execution_count": 4
        }
      ]
    },
    {
      "cell_type": "code",
      "metadata": {
        "id": "0zOFqdvNUdts",
        "colab_type": "code",
        "colab": {
          "base_uri": "https://localhost:8080/",
          "height": 51
        },
        "outputId": "0a4a3e89-3208-44b9-90fb-51a83f67f1b7"
      },
      "source": [
        "def generate_pdb(db, index):\n",
        "  \n",
        "  return torch.cat((db[:index], db[index+1:]))\n",
        "\n",
        "\n",
        "\n",
        "def get_parallel_dbs(db):\n",
        "  \n",
        "  pdbs = torch.zeros((len(db), len(db)-1))\n",
        "  \n",
        "  for i in range(len(db)):\n",
        "    pdb = generate_pdb(db, i)\n",
        "    pdbs[i] = pdb\n",
        "    \n",
        "  return pdbs\n",
        "   \n",
        "def get_db_pdbs():\n",
        "  \n",
        "  db = torch.randn(5000) > 0.5\n",
        "  \n",
        "  pdbs = get_parallel_dbs(db)\n",
        "  \n",
        "  return db, pdbs\n",
        "\n",
        "db, pdbs = get_db_pdbs()\n",
        "print(db.shape)\n",
        "print(pdbs.shape)"
      ],
      "execution_count": 28,
      "outputs": [
        {
          "output_type": "stream",
          "text": [
            "torch.Size([5000])\n",
            "torch.Size([5000, 4999])\n"
          ],
          "name": "stdout"
        }
      ]
    },
    {
      "cell_type": "code",
      "metadata": {
        "id": "hOBLl_FpVm_T",
        "colab_type": "code",
        "colab": {}
      },
      "source": [
        ""
      ],
      "execution_count": 0,
      "outputs": []
    }
  ]
}