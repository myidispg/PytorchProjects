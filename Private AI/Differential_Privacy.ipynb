{
  "nbformat": 4,
  "nbformat_minor": 0,
  "metadata": {
    "colab": {
      "name": "Differential Privacy.ipynb",
      "version": "0.3.2",
      "provenance": [],
      "collapsed_sections": [],
      "include_colab_link": true
    },
    "kernelspec": {
      "name": "python3",
      "display_name": "Python 3"
    }
  },
  "cells": [
    {
      "cell_type": "markdown",
      "metadata": {
        "id": "view-in-github",
        "colab_type": "text"
      },
      "source": [
        "<a href=\"https://colab.research.google.com/github/myidispg/PytorchProjects/blob/master/Private%20AI/Differential_Privacy.ipynb\" target=\"_parent\"><img src=\"https://colab.research.google.com/assets/colab-badge.svg\" alt=\"Open In Colab\"/></a>"
      ]
    },
    {
      "cell_type": "code",
      "metadata": {
        "id": "jxpJr_p4UTXQ",
        "colab_type": "code",
        "colab": {}
      },
      "source": [
        "import numpy as np\n",
        "import torch"
      ],
      "execution_count": 0,
      "outputs": []
    },
    {
      "cell_type": "code",
      "metadata": {
        "id": "P6v-_kQdUYQG",
        "colab_type": "code",
        "outputId": "393ed915-3ba3-4424-eb2a-f4baa108ff03",
        "colab": {
          "base_uri": "https://localhost:8080/",
          "height": 34
        }
      },
      "source": [
        "db = torch.randn(5000) > 0.5\n",
        "db"
      ],
      "execution_count": 3,
      "outputs": [
        {
          "output_type": "execute_result",
          "data": {
            "text/plain": [
              "tensor([1, 0, 1,  ..., 1, 0, 1], dtype=torch.uint8)"
            ]
          },
          "metadata": {
            "tags": []
          },
          "execution_count": 3
        }
      ]
    },
    {
      "cell_type": "code",
      "metadata": {
        "id": "0zOFqdvNUdts",
        "colab_type": "code",
        "outputId": "2cb752aa-375d-4a2d-9702-109062e03e5a",
        "colab": {
          "base_uri": "https://localhost:8080/",
          "height": 51
        }
      },
      "source": [
        "def generate_pdb(db, index):\n",
        "  \n",
        "  return torch.cat((db[:index], db[index+1:]))\n",
        "\n",
        "\n",
        "\n",
        "def get_parallel_dbs(db):\n",
        "  \n",
        "  pdbs = torch.zeros((len(db), len(db)-1))\n",
        "  \n",
        "  for i in range(len(db)):\n",
        "    pdb = generate_pdb(db, i)\n",
        "    pdbs[i] = pdb\n",
        "    \n",
        "  return pdbs\n",
        "   \n",
        "def get_db_pdbs(num_elems = 10):\n",
        "  \n",
        "  db = torch.randn(num_elems) > 0.5\n",
        "  \n",
        "  pdbs = get_parallel_dbs(db)\n",
        "  \n",
        "  return db, pdbs\n",
        "\n",
        "db, pdbs = get_db_pdbs(5000)\n",
        "print(db.shape)\n",
        "print(pdbs.shape)"
      ],
      "execution_count": 4,
      "outputs": [
        {
          "output_type": "stream",
          "text": [
            "torch.Size([5000])\n",
            "torch.Size([5000, 4999])\n"
          ],
          "name": "stdout"
        }
      ]
    },
    {
      "cell_type": "code",
      "metadata": {
        "id": "hOBLl_FpVm_T",
        "colab_type": "code",
        "outputId": "6b7fea4c-a069-41b2-f867-b2ae30f7f163",
        "colab": {
          "base_uri": "https://localhost:8080/",
          "height": 34
        }
      },
      "source": [
        "def query(db):\n",
        "  return db.sum()\n",
        "\n",
        "db, pdbs = get_db_pdbs(10)\n",
        "query(db)"
      ],
      "execution_count": 5,
      "outputs": [
        {
          "output_type": "execute_result",
          "data": {
            "text/plain": [
              "tensor(4)"
            ]
          },
          "metadata": {
            "tags": []
          },
          "execution_count": 5
        }
      ]
    },
    {
      "cell_type": "code",
      "metadata": {
        "id": "WnHsc3iitXni",
        "colab_type": "code",
        "outputId": "536c2c84-698e-4612-986e-7660bac3bacb",
        "colab": {
          "base_uri": "https://localhost:8080/",
          "height": 34
        }
      },
      "source": [
        "def calculate_sensitivity(db, pdbs, query):\n",
        "  \n",
        "  db_result = query(db)\n",
        "  max_result = 0\n",
        "  \n",
        "  for pdb in pdbs:\n",
        "    pdb_result = query(pdb)\n",
        "    \n",
        "    db_distance = torch.abs(pdb_result - db_result)\n",
        "    if db_distance > max_result:\n",
        "      max_result = db_distance\n",
        "  \n",
        "  return max_result\n",
        "\n",
        "print(f'The sensitivity of the database is: {calculate_sensitivity(db, pdbs, query)}')\n",
        "  "
      ],
      "execution_count": 6,
      "outputs": [
        {
          "output_type": "stream",
          "text": [
            "The sensitivity of the database is: 1.0\n"
          ],
          "name": "stdout"
        }
      ]
    },
    {
      "cell_type": "code",
      "metadata": {
        "id": "q5glysU7ujcw",
        "colab_type": "code",
        "outputId": "fae21b0a-08dd-40da-f823-82df184b681b",
        "colab": {
          "base_uri": "https://localhost:8080/",
          "height": 34
        }
      },
      "source": [
        "def mean_query(db):\n",
        "  return db.float().mean()\n",
        "\n",
        "db, pdbs = get_db_pdbs(10)\n",
        "\n",
        "print(f'The sensitivity of the database is: {calculate_sensitivity(db, pdbs, mean_query)}')"
      ],
      "execution_count": 7,
      "outputs": [
        {
          "output_type": "stream",
          "text": [
            "The sensitivity of the database is: 0.07777778804302216\n"
          ],
          "name": "stdout"
        }
      ]
    },
    {
      "cell_type": "markdown",
      "metadata": {
        "id": "zhAsdyBQxly7",
        "colab_type": "text"
      },
      "source": [
        "### Threshold sensitvity"
      ]
    },
    {
      "cell_type": "code",
      "metadata": {
        "id": "PpR-kv7mwAFJ",
        "colab_type": "code",
        "outputId": "00405b3b-cbf3-4816-ea2b-2aa2608815d2",
        "colab": {
          "base_uri": "https://localhost:8080/",
          "height": 187
        }
      },
      "source": [
        "def threshold_query(db, threshold=5):\n",
        "  return (db.sum() > threshold).float()\n",
        "\n",
        "for i in range(10):\n",
        "  db, pdb = get_db_pdbs(10)\n",
        "  print(threshold_query(db, 5))\n"
      ],
      "execution_count": 8,
      "outputs": [
        {
          "output_type": "stream",
          "text": [
            "tensor(0.)\n",
            "tensor(0.)\n",
            "tensor(0.)\n",
            "tensor(0.)\n",
            "tensor(0.)\n",
            "tensor(0.)\n",
            "tensor(0.)\n",
            "tensor(0.)\n",
            "tensor(0.)\n",
            "tensor(0.)\n"
          ],
          "name": "stdout"
        }
      ]
    },
    {
      "cell_type": "markdown",
      "metadata": {
        "id": "JG3IdHFA4DxW",
        "colab_type": "text"
      },
      "source": [
        "### Performing differencing attack"
      ]
    },
    {
      "cell_type": "code",
      "metadata": {
        "id": "_8uvv-D6xy3N",
        "colab_type": "code",
        "outputId": "2a12a299-678c-4db0-d263-32f735b56c9b",
        "colab": {
          "base_uri": "https://localhost:8080/",
          "height": 102
        }
      },
      "source": [
        "db, _ = get_db_pdbs(10)\n",
        "pdb = generate_pdb(db, 9)\n",
        "\n",
        "print('Performing differencing attacks...\\nIf the results are not 0, then the value at index was 1.')\n",
        "print(f'Using sum query: {query(db) - query(pdb)}')\n",
        "print(f'Using mean query: {mean_query(db) - mean_query(pdb)}')\n",
        "print(f'Using threshold query: {threshold_query(db, threshold=2) - threshold_query(pdb,threshold=2)}')"
      ],
      "execution_count": 9,
      "outputs": [
        {
          "output_type": "stream",
          "text": [
            "Performing differencing attacks...\n",
            "If the results are not 0, then the value at index was 1.\n",
            "Using sum query: 0\n",
            "Using mean query: -0.04444444179534912\n",
            "Using threshold query: 0.0\n"
          ],
          "name": "stdout"
        }
      ]
    },
    {
      "cell_type": "markdown",
      "metadata": {
        "id": "2i2vv5MKPE2u",
        "colab_type": "text"
      },
      "source": [
        "### Apply Local Differential Privacy"
      ]
    },
    {
      "cell_type": "code",
      "metadata": {
        "id": "APq6SVL14MpX",
        "colab_type": "code",
        "colab": {
          "base_uri": "https://localhost:8080/",
          "height": 102
        },
        "outputId": "e9dcf00e-3265-4dc9-f4a5-99855d85a080"
      },
      "source": [
        "def randomize_db(db, noise=0.5):\n",
        "  \n",
        "  for i in range(len(db)):\n",
        "    \n",
        "    first_flip = np.random.rand(1) > noise\n",
        "    \n",
        "    if first_flip:\n",
        "      pass\n",
        "    else:\n",
        "      db[i] = int(np.random.rand(1) > 0.5)\n",
        "\n",
        "db, _ = get_db_pdbs(100)\n",
        "print(f'Before randomizing:\\n{mean_query(db)}')\n",
        "randomize_db(db, noise=0.6)\n",
        "print(f'\\nAfter randomizing: \\n{mean_query(db)}')"
      ],
      "execution_count": 18,
      "outputs": [
        {
          "output_type": "stream",
          "text": [
            "Before randomizing:\n",
            "0.25\n",
            "\n",
            "After randomizing: \n",
            "0.44999998807907104\n"
          ],
          "name": "stdout"
        }
      ]
    },
    {
      "cell_type": "code",
      "metadata": {
        "id": "VBQnQXS7PoEs",
        "colab_type": "code",
        "colab": {}
      },
      "source": [
        ""
      ],
      "execution_count": 0,
      "outputs": []
    }
  ]
}