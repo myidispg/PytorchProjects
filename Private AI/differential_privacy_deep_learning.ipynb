{
  "nbformat": 4,
  "nbformat_minor": 0,
  "metadata": {
    "colab": {
      "name": "differential_privacy_deep_learning.ipynb",
      "version": "0.3.2",
      "provenance": [],
      "collapsed_sections": [],
      "include_colab_link": true
    },
    "kernelspec": {
      "name": "python3",
      "display_name": "Python 3"
    }
  },
  "cells": [
    {
      "cell_type": "markdown",
      "metadata": {
        "id": "view-in-github",
        "colab_type": "text"
      },
      "source": [
        "<a href=\"https://colab.research.google.com/github/myidispg/PytorchProjects/blob/master/Private%20AI/differential_privacy_deep_learning.ipynb\" target=\"_parent\"><img src=\"https://colab.research.google.com/assets/colab-badge.svg\" alt=\"Open In Colab\"/></a>"
      ]
    },
    {
      "cell_type": "code",
      "metadata": {
        "id": "yZRzoegsSubr",
        "colab_type": "code",
        "colab": {
          "base_uri": "https://localhost:8080/",
          "height": 34
        },
        "outputId": "5b867d9a-123f-45a5-aeb9-276875cbe1ed"
      },
      "source": [
        "import torch\n",
        "import torchvision\n",
        "\n",
        "import numpy as np\n",
        "import matplotlib.pyplot as plt\n",
        "\n",
        "\n",
        "device = torch.device('cuda' if torch.cuda.is_available() else 'cpu')\n",
        "device"
      ],
      "execution_count": 15,
      "outputs": [
        {
          "output_type": "execute_result",
          "data": {
            "text/plain": [
              "device(type='cpu')"
            ]
          },
          "metadata": {
            "tags": []
          },
          "execution_count": 15
        }
      ]
    },
    {
      "cell_type": "markdown",
      "metadata": {
        "id": "y-h5L0qtSyVd",
        "colab_type": "text"
      },
      "source": [
        "## Load the MNIST Dataset using Torchvision"
      ]
    },
    {
      "cell_type": "code",
      "metadata": {
        "id": "w4JzY5qrS3zt",
        "colab_type": "code",
        "colab": {
          "base_uri": "https://localhost:8080/",
          "height": 51
        },
        "outputId": "6a662401-f1d3-4a4a-8849-5ff55013ed1c"
      },
      "source": [
        "transforms = torchvision.transforms.Compose([torchvision.transforms.ToTensor(),\n",
        "                                             torchvision.transforms.Normalize((0.5,), (0.5,))])\n",
        "\n",
        "mnist_trainset = torchvision.datasets.MNIST(root='./MNIST_data/', train=True, download=True, transform=transforms)\n",
        "mnist_testset = torchvision.datasets.MNIST(root='./MNIST_data/', train=False, download=True, transform=transforms)\n",
        "print(f'Trainset length: {len(mnist_trainset)}')\n",
        "print(f'Testset: {len(mnist_testset)}')\n",
        "trainloader = torch.utils.data.DataLoader(mnist_trainset, batch_size=64, shuffle=True)\n",
        "testloader = torch.utils.data.DataLoader(mnist_testset, batch_size=64, shuffle=True)\n",
        "\n",
        "classes = [0, 1, 2, 3, 4, 5, 6, 7, 8, 9]"
      ],
      "execution_count": 22,
      "outputs": [
        {
          "output_type": "stream",
          "text": [
            "Trainset length: 60000\n",
            "Testset: 10000\n"
          ],
          "name": "stdout"
        }
      ]
    },
    {
      "cell_type": "code",
      "metadata": {
        "id": "aay2BdLYTVov",
        "colab_type": "code",
        "colab": {
          "base_uri": "https://localhost:8080/",
          "height": 257
        },
        "outputId": "5a3420d2-0dd9-42af-e963-cda34a2efe89"
      },
      "source": [
        "# To unnormalize the image and put channel after the image height and width.\n",
        "def im_show_process(img):\n",
        "  img = (img / 2) + 0.5 # Unnormalize the image\n",
        "  img = img.numpy()\n",
        "  \n",
        "  # Since, PyTorch needs channels before the height and width and\n",
        "  # matplotlib needs channels afterwards, transpose them to make images compatible.\n",
        "  return np.transpose(img, (1, 2, 0)).reshape(img.shape[1], -1)\n",
        "\n",
        "print(f'Plotting 10 random images from the train set and their corresponding labels...')\n",
        "dataiter = iter(trainloader)\n",
        "images, labels = dataiter.next()\n",
        "\n",
        "f, axarr = plt.subplots(2, 5)\n",
        "\n",
        "for i in range(2):\n",
        "  for j in range(5):\n",
        "    index = np.random.randint(0, 64)\n",
        "    image = im_show_process(images[index])\n",
        "#     image = images[index]\n",
        "    axarr[i, j].imshow(image)\n",
        "    axarr[i, j].set_title(classes[labels[index]])"
      ],
      "execution_count": 24,
      "outputs": [
        {
          "output_type": "stream",
          "text": [
            "Plotting 10 random images from the train set and their corresponding labels...\n"
          ],
          "name": "stdout"
        },
        {
          "output_type": "display_data",
          "data": {
            "image/png": "[encoded data removed]",
            "text/plain": [
              "<Figure size 432x288 with 10 Axes>"
            ]
          },
          "metadata": {
            "tags": []
          }
        }
      ]
    },
    {
      "cell_type": "code",
      "metadata": {
        "id": "TcHn2c_9U48K",
        "colab_type": "code",
        "colab": {}
      },
      "source": [
        "print(f'Plotting 10 random images from the test set and their corresponding labels...')\n",
        "dataiter = iter(testloader)\n",
        "images, labels = dataiter.next()\n",
        "\n",
        "f, axarr = plt.subplots(2, 5)\n",
        "\n",
        "for i in range(2):\n",
        "  for j in range(5):\n",
        "    index = np.random.randint(0, 64)\n",
        "    axarr[i, j].imshow(im_show_process(images[index]))\n",
        "    axarr[i, j].set_title(classes[labels[index]])"
      ],
      "execution_count": 0,
      "outputs": []
    },
    {
      "cell_type": "markdown",
      "metadata": {
        "id": "d9rnUJKDcxlS",
        "colab_type": "text"
      },
      "source": [
        "## Building the model"
      ]
    },
    {
      "cell_type": "code",
      "metadata": {
        "id": "B9BJ1KuWcsSS",
        "colab_type": "code",
        "colab": {
          "base_uri": "https://localhost:8080/",
          "height": 51
        },
        "outputId": "37242ed3-7494-4339-9284-875e7d527c05"
      },
      "source": [
        "import torch.nn as nn\n",
        "import torch.nn.functional as F\n",
        "\n",
        "class Model(nn.Module):\n",
        "  \n",
        "  def __init__(self):\n",
        "    super(Model, self).__init__()\n",
        "    \n",
        "    self.fc1 = nn.Linear(784, 128)\n",
        "    self.fc2 = nn.Linear(128, 64)\n",
        "    self.fc3 = nn.Linear(64, 10)\n",
        "    \n",
        "  def forward(self, X):\n",
        "    X = X.view(X.shape[0], -1)\n",
        "#     print(X.shape)\n",
        "    \n",
        "    hidden = F.relu(self.fc1(X))\n",
        "    hidden = F.relu(self.fc2(hidden))\n",
        "    \n",
        "    return self.fc3(hidden)\n",
        "  \n",
        "model = Model()\n",
        "image = torch.randn((64, 28, 28, 1))\n",
        "print(f\"Image's shape before inputting: {image.shape}\")\n",
        "image = model(image)\n",
        "print(f'Output image shape: {image.shape}')"
      ],
      "execution_count": 62,
      "outputs": [
        {
          "output_type": "stream",
          "text": [
            "Image's shape before inputting: torch.Size([64, 28, 28, 1])\n",
            "Output image shape: torch.Size([64, 10])\n"
          ],
          "name": "stdout"
        }
      ]
    },
    {
      "cell_type": "markdown",
      "metadata": {
        "id": "0JT5lwh_iyZa",
        "colab_type": "text"
      },
      "source": [
        "##Defining some parameters and criterion, optimizer"
      ]
    },
    {
      "cell_type": "code",
      "metadata": {
        "id": "13Uj99f2fHYM",
        "colab_type": "code",
        "colab": {}
      },
      "source": [
        "epsilon = 3.01\n",
        "beta = 1/epsilon\n",
        "lr = 0.15\n",
        "epochs = 60\n",
        "train_loss = []\n",
        "validation_loss = []\n",
        "validation_acc = []\n",
        "\n",
        "running_loss = 0\n",
        "\n",
        "model = Model().to(device)\n",
        "criterion = nn.CrossEntropyLoss()\n",
        "optimizer = torch.optim.SGD(model.parameters(), lr=lr)"
      ],
      "execution_count": 0,
      "outputs": []
    },
    {
      "cell_type": "markdown",
      "metadata": {
        "id": "_L4sqwMvjTJg",
        "colab_type": "text"
      },
      "source": [
        "###Training the model"
      ]
    },
    {
      "cell_type": "code",
      "metadata": {
        "id": "uMLUVCgZjVei",
        "colab_type": "code",
        "colab": {
          "base_uri": "https://localhost:8080/",
          "height": 1000
        },
        "outputId": "8f883c32-2c51-4fd4-fa15-cb73fb87bf22"
      },
      "source": [
        "for epoch in range(epochs):\n",
        "\n",
        "  for inputs, labels in trainloader:\n",
        "    inputs, labels = inputs.to(device), labels.to(device)\n",
        "    optimizer.zero_grad()\n",
        "\n",
        "    logps = model(inputs)\n",
        "    loss = criterion(logps, labels)\n",
        "    loss.backward()\n",
        "\n",
        "        # Perform gradient clipping in l2 norm\n",
        "    nn.utils.clip_grad_norm_(model.parameters(), 4)\n",
        "    \n",
        "    for params in model.parameters():\n",
        "      noise = torch.from_numpy(np.random.laplace(0, beta, params.shape)).float().to(device)\n",
        "      params.grad += 1.1 * noise\n",
        "    \n",
        "    optimizer.step()\n",
        "    running_loss += loss.item()\n",
        "  \n",
        "  else:\n",
        "    test_loss = 0\n",
        "    accuracy = 0\n",
        "    model.eval()\n",
        "    with torch.no_grad():\n",
        "      for inputs, labels in testloader:\n",
        "        inputs, labels = inputs.to(device), labels.to(device)\n",
        "        logps = model(inputs)\n",
        "        batch_loss = criterion(logps, labels)\n",
        "        \n",
        "        test_loss += batch_loss.item()\n",
        "         \n",
        "        # Calculate accuracy\n",
        "        ps = torch.exp(logps)\n",
        "        top_p, top_class = ps.topk(1, dim=1)\n",
        "        equals = top_class == labels.view(*top_class.shape)\n",
        "        accuracy += torch.mean(equals.type(torch.FloatTensor)).item()\n",
        "          \n",
        "      print(f\"Epoch {epoch+1}/{epochs}.. \"\n",
        "            f\"Train loss: {running_loss/len(trainloader):.8f}.. \"\n",
        "            f\"Test loss: {test_loss/len(testloader):.8f}.. \"\n",
        "            f\"Test accuracy: {accuracy/len(testloader):.8f}\")\n",
        "      train_loss.append(running_loss/len(trainloader))\n",
        "      validation_loss.append(test_loss/len(testloader))\n",
        "      validation_acc.append(accuracy/(len(testloader)))\n",
        "      running_loss = 0\n",
        "      model.train()"
      ],
      "execution_count": 87,
      "outputs": [
        {
          "output_type": "stream",
          "text": [
            "Epoch 1/60.. Train loss: 4.26179396.. Test loss: 3.55824878.. Test accuracy: 0.09613854\n",
            "Epoch 2/60.. Train loss: 6.96881191.. Test loss: 6.45092087.. Test accuracy: 0.09743232\n",
            "Epoch 3/60.. Train loss: 10.10820153.. Test loss: 11.67387411.. Test accuracy: 0.10290605\n",
            "Epoch 4/60.. Train loss: 12.21021783.. Test loss: 6.21905735.. Test accuracy: 0.09026672\n",
            "Epoch 5/60.. Train loss: 15.26703528.. Test loss: 14.16736023.. Test accuracy: 0.09713376\n",
            "Epoch 6/60.. Train loss: 14.71781755.. Test loss: 22.90760380.. Test accuracy: 0.09743232\n",
            "Epoch 7/60.. Train loss: 24.21731225.. Test loss: 12.87559924.. Test accuracy: 0.09773089\n",
            "Epoch 8/60.. Train loss: 22.09361542.. Test loss: 73.00851338.. Test accuracy: 0.09892516\n",
            "Epoch 9/60.. Train loss: 22.64652497.. Test loss: 18.14347968.. Test accuracy: 0.10131369\n",
            "Epoch 10/60.. Train loss: 21.55443799.. Test loss: 21.35104728.. Test accuracy: 0.10121417\n",
            "Epoch 11/60.. Train loss: 41.96173218.. Test loss: 60.71806279.. Test accuracy: 0.09723328\n",
            "Epoch 12/60.. Train loss: 27.59479343.. Test loss: 12.61838704.. Test accuracy: 0.09733280\n",
            "Epoch 13/60.. Train loss: 23.05040710.. Test loss: 20.80467808.. Test accuracy: 0.10230892\n",
            "Epoch 14/60.. Train loss: 24.25287924.. Test loss: 43.93245893.. Test accuracy: 0.11375398\n",
            "Epoch 15/60.. Train loss: 33.14984470.. Test loss: 46.79149588.. Test accuracy: 0.10061704\n",
            "Epoch 16/60.. Train loss: 73.39054065.. Test loss: 50.81759020.. Test accuracy: 0.08947054\n",
            "Epoch 17/60.. Train loss: 66.00952039.. Test loss: 19.37816070.. Test accuracy: 0.10171178\n",
            "Epoch 18/60.. Train loss: 51.94588203.. Test loss: 59.55111432.. Test accuracy: 0.08867436\n",
            "Epoch 19/60.. Train loss: 34.61447589.. Test loss: 52.97653204.. Test accuracy: 0.09564092\n",
            "Epoch 20/60.. Train loss: 59.07943197.. Test loss: 172.41305915.. Test accuracy: 0.09534236\n",
            "Epoch 21/60.. Train loss: 30.50780698.. Test loss: 180.11175219.. Test accuracy: 0.09484475\n",
            "Epoch 22/60.. Train loss: 44.54792401.. Test loss: 58.20664894.. Test accuracy: 0.11375398\n",
            "Epoch 23/60.. Train loss: 38.97702215.. Test loss: 55.41959713.. Test accuracy: 0.09852707\n",
            "Epoch 24/60.. Train loss: 43.24072724.. Test loss: 132.26610742.. Test accuracy: 0.08976911\n",
            "Epoch 25/60.. Train loss: 74.90456870.. Test loss: 95.16283524.. Test accuracy: 0.10041799\n",
            "Epoch 26/60.. Train loss: 86.58577084.. Test loss: 127.13882798.. Test accuracy: 0.08917197\n",
            "Epoch 27/60.. Train loss: 71.05705864.. Test loss: 161.95872094.. Test accuracy: 0.10270701\n",
            "Epoch 28/60.. Train loss: 77.62720626.. Test loss: 234.06926905.. Test accuracy: 0.10290605\n",
            "Epoch 29/60.. Train loss: 86.04913124.. Test loss: 139.94008161.. Test accuracy: 0.09693471\n",
            "Epoch 30/60.. Train loss: 105.65719688.. Test loss: 133.79197751.. Test accuracy: 0.11415207\n",
            "Epoch 31/60.. Train loss: 88.56039369.. Test loss: 179.07463825.. Test accuracy: 0.10161226\n",
            "Epoch 32/60.. Train loss: 68.01752551.. Test loss: 111.26467761.. Test accuracy: 0.09524283\n",
            "Epoch 33/60.. Train loss: 79.68760678.. Test loss: 287.42881217.. Test accuracy: 0.08957006\n",
            "Epoch 34/60.. Train loss: 147.49058713.. Test loss: 288.20463240.. Test accuracy: 0.10091561\n",
            "Epoch 35/60.. Train loss: 177.60384034.. Test loss: 208.71569923.. Test accuracy: 0.09524283\n",
            "Epoch 36/60.. Train loss: 86.32452240.. Test loss: 237.35128251.. Test accuracy: 0.09912420\n",
            "Epoch 37/60.. Train loss: 123.39514709.. Test loss: 181.37199896.. Test accuracy: 0.10081608\n",
            "Epoch 38/60.. Train loss: 123.82808626.. Test loss: 69.53344336.. Test accuracy: 0.09832803\n",
            "Epoch 39/60.. Train loss: 86.66500988.. Test loss: 61.58305502.. Test accuracy: 0.10131369\n",
            "Epoch 40/60.. Train loss: 147.73810923.. Test loss: 26.66392292.. Test accuracy: 0.08907245\n",
            "Epoch 41/60.. Train loss: 175.70789938.. Test loss: 111.89127556.. Test accuracy: 0.10151274\n",
            "Epoch 42/60.. Train loss: 179.31810869.. Test loss: 116.70262044.. Test accuracy: 0.10240844\n",
            "Epoch 43/60.. Train loss: 83.50642364.. Test loss: 115.20394182.. Test accuracy: 0.11375398\n",
            "Epoch 44/60.. Train loss: 124.88905951.. Test loss: 94.23856669.. Test accuracy: 0.08887341\n",
            "Epoch 45/60.. Train loss: 297.36102458.. Test loss: 58.64422057.. Test accuracy: 0.09544188\n",
            "Epoch 46/60.. Train loss: 161.22166174.. Test loss: 86.66064654.. Test accuracy: 0.10101513\n",
            "Epoch 47/60.. Train loss: 110.71496972.. Test loss: 63.44967581.. Test accuracy: 0.09773089\n",
            "Epoch 48/60.. Train loss: 96.75858791.. Test loss: 8.52705835.. Test accuracy: 0.11355494\n",
            "Epoch 49/60.. Train loss: 110.84515879.. Test loss: 49.13312748.. Test accuracy: 0.10061704\n",
            "Epoch 50/60.. Train loss: 133.19335745.. Test loss: 24.21315176.. Test accuracy: 0.08917197\n",
            "Epoch 51/60.. Train loss: 76.80567013.. Test loss: 87.00955613.. Test accuracy: 0.09683519\n",
            "Epoch 52/60.. Train loss: 164.14238441.. Test loss: 58.20871627.. Test accuracy: 0.11355494\n",
            "Epoch 53/60.. Train loss: 143.73278257.. Test loss: 40.17114854.. Test accuracy: 0.11445064\n",
            "Epoch 54/60.. Train loss: 133.36191793.. Test loss: 51.87852598.. Test accuracy: 0.09733280\n",
            "Epoch 55/60.. Train loss: 202.03299644.. Test loss: 44.39504842.. Test accuracy: 0.11365446\n",
            "Epoch 56/60.. Train loss: 156.13965814.. Test loss: 184.15716135.. Test accuracy: 0.09723328\n",
            "Epoch 57/60.. Train loss: 179.62509253.. Test loss: 208.53565981.. Test accuracy: 0.11345541\n",
            "Epoch 58/60.. Train loss: 248.16200289.. Test loss: 230.37800524.. Test accuracy: 0.10290605\n",
            "Epoch 59/60.. Train loss: 227.99968078.. Test loss: 270.57009347.. Test accuracy: 0.10111465\n",
            "Epoch 60/60.. Train loss: 96.96046712.. Test loss: 15.45431783.. Test accuracy: 0.09593949\n"
          ],
          "name": "stdout"
        }
      ]
    },
    {
      "cell_type": "code",
      "metadata": {
        "id": "gS-MiWq5mBFe",
        "colab_type": "code",
        "colab": {
          "base_uri": "https://localhost:8080/",
          "height": 312
        },
        "outputId": "5126f4e8-e0bf-4edd-d345-63a662e09354"
      },
      "source": [
        "# Plot the training losses.\n",
        "plt.plot(train_loss, color='r')\n",
        "plt.xlabel('Epochs')\n",
        "plt.ylabel('Loss')\n",
        "plt.title('Training Losses')"
      ],
      "execution_count": 88,
      "outputs": [
        {
          "output_type": "execute_result",
          "data": {
            "text/plain": [
              "Text(0.5, 1.0, 'Training Losses')"
            ]
          },
          "metadata": {
            "tags": []
          },
          "execution_count": 88
        },
        {
          "output_type": "display_data",
          "data": {
            "image/png": "[encoded data removed]",
            "text/plain": [
              "<Figure size 432x288 with 1 Axes>"
            ]
          },
          "metadata": {
            "tags": []
          }
        }
      ]
    },
    {
      "cell_type": "code",
      "metadata": {
        "id": "lu_2oNWeMBB3",
        "colab_type": "code",
        "colab": {
          "base_uri": "https://localhost:8080/",
          "height": 312
        },
        "outputId": "e51eff16-3ff1-43bc-c3d1-c9b04e5f6ffc"
      },
      "source": [
        "# Plot Validation losses\n",
        "\n",
        "plt.plot(validation_loss, color='r')\n",
        "plt.xlabel('Epochs')\n",
        "plt.ylabel('Loss')\n",
        "plt.title('Validation Losses')"
      ],
      "execution_count": 89,
      "outputs": [
        {
          "output_type": "execute_result",
          "data": {
            "text/plain": [
              "Text(0.5, 1.0, 'Validation Losses')"
            ]
          },
          "metadata": {
            "tags": []
          },
          "execution_count": 89
        },
        {
          "output_type": "display_data",
          "data": {
            "image/png": "[encoded data removed]",
            "text/plain": [
              "<Figure size 432x288 with 1 Axes>"
            ]
          },
          "metadata": {
            "tags": []
          }
        }
      ]
    },
    {
      "cell_type": "code",
      "metadata": {
        "id": "RJFNXf4BMEJm",
        "colab_type": "code",
        "colab": {
          "base_uri": "https://localhost:8080/",
          "height": 312
        },
        "outputId": "25983ec7-3f67-4881-a753-6a4dba1696e4"
      },
      "source": [
        "# Plot the validation accuracy\n",
        "plt.plot(validation_acc, color='r')\n",
        "plt.xlabel('Epochs')\n",
        "plt.ylabel('Accuracy')\n",
        "plt.title('Validation Accuracy')"
      ],
      "execution_count": 90,
      "outputs": [
        {
          "output_type": "execute_result",
          "data": {
            "text/plain": [
              "Text(0.5, 1.0, 'Validation Accuracy')"
            ]
          },
          "metadata": {
            "tags": []
          },
          "execution_count": 90
        },
        {
          "output_type": "display_data",
          "data": {
            "image/png": "[encoded data removed]",
            "text/plain": [
              "<Figure size 432x288 with 1 Axes>"
            ]
          },
          "metadata": {
            "tags": []
          }
        }
      ]
    },
    {
      "cell_type": "code",
      "metadata": {
        "id": "-xqESknTMGXx",
        "colab_type": "code",
        "colab": {}
      },
      "source": [
        ""
      ],
      "execution_count": 0,
      "outputs": []
    }
  ]
}