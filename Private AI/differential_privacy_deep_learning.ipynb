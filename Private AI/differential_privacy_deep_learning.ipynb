{
  "nbformat": 4,
  "nbformat_minor": 0,
  "metadata": {
    "colab": {
      "name": "differential_privacy_deep_learning.ipynb",
      "version": "0.3.2",
      "provenance": [],
      "collapsed_sections": [],
      "include_colab_link": true
    },
    "kernelspec": {
      "name": "python3",
      "display_name": "Python 3"
    },
    "accelerator": "GPU"
  },
  "cells": [
    {
      "cell_type": "markdown",
      "metadata": {
        "id": "view-in-github",
        "colab_type": "text"
      },
      "source": [
        "<a href=\"https://colab.research.google.com/github/myidispg/PytorchProjects/blob/master/Private%20AI/differential_privacy_deep_learning.ipynb\" target=\"_parent\"><img src=\"https://colab.research.google.com/assets/colab-badge.svg\" alt=\"Open In Colab\"/></a>"
      ]
    },
    {
      "cell_type": "code",
      "metadata": {
        "id": "yZRzoegsSubr",
        "colab_type": "code",
        "outputId": "1ce8344c-9fc8-47ba-f6cf-754b0b9fa60b",
        "colab": {
          "base_uri": "https://localhost:8080/",
          "height": 34
        }
      },
      "source": [
        "import torch\n",
        "import torchvision\n",
        "\n",
        "import numpy as np\n",
        "import matplotlib.pyplot as plt\n",
        "\n",
        "\n",
        "device = torch.device('cuda' if torch.cuda.is_available() else 'cpu')\n",
        "device"
      ],
      "execution_count": 2,
      "outputs": [
        {
          "output_type": "execute_result",
          "data": {
            "text/plain": [
              "device(type='cuda')"
            ]
          },
          "metadata": {
            "tags": []
          },
          "execution_count": 2
        }
      ]
    },
    {
      "cell_type": "markdown",
      "metadata": {
        "id": "AO9akPDX0PoT",
        "colab_type": "text"
      },
      "source": [
        "## Differentially private Gradient Descent Optimizer\n"
      ]
    },
    {
      "cell_type": "code",
      "metadata": {
        "id": "vfEs6BOa1XP4",
        "colab_type": "code",
        "colab": {}
      },
      "source": [
        "import math\n",
        "import uuid\n",
        "from torch.optim.optimizer import Optimizer, required\n",
        "\n",
        "import torch.nn.functional as F\n",
        "\n",
        "PI =  torch.cuda.FloatTensor([math.pi])\n",
        "NORM = (torch.sqrt(2.0*PI))\n",
        "\n",
        "def norm(x, mean, std_dev):\n",
        "  y = (x-mean)/std_dev\n",
        "  return (torch.exp((-y).pow(2)/2.0)/NORM)/std_dev\n",
        "\n",
        "class DPSGD(Optimizer):\n",
        "  \n",
        "  def __init__(self, params, lr=required, momentum=0, dampening=0,\n",
        "               weight_decay=0, nesterov=False, C=1, noise_multiplier=1.0,\n",
        "               batch_size=256):\n",
        "    \n",
        "    # This section is same as the official SGD implementation\n",
        "    if lr is not required and lr < 0.0:\n",
        "      raise ValueError(\"Invalid learning rate: {}\".format(lr))\n",
        "    if momentum < 0.0:\n",
        "      raise ValueError(\"Invalid momentum value: {}\".format(momentum))\n",
        "    if weight_decay < 0.0:\n",
        "      raise ValueError(\"Invalid weight_decay value: {}\".format(weight_decay))\n",
        "\n",
        "    defaults = dict(lr=lr, momentum=momentum, dampening=dampening,\n",
        "                    weight_decay=weight_decay, nesterov=nesterov)\n",
        "    if nesterov and (momentum <= 0 or dampening != 0):\n",
        "      raise ValueError(\"Nesterov momentum requires a momentum and zero dampening\")\n",
        "    super(DPSGD, self).__init__(params, defaults)\n",
        "    # -----------------------------------------------------------\n",
        "\n",
        "    self.batch_size = batch_size\n",
        "    self.C = C\n",
        "    self.noise_multiplier = noise_multiplier\n",
        "  \n",
        "  def __setstate__(self, state):\n",
        "    super(SGD, self).__setstate__(state)\n",
        "    for group in self.param_groups:\n",
        "      group.setdefault('nesterov', False)\n",
        "      \n",
        "  def step(self, closure=None):\n",
        "    \"\"\"Performs a single optimization step.\n",
        "    Arguments:\n",
        "        closure (callable, optional): A closure that reevaluates the model\n",
        "            and returns the loss.\n",
        "    \"\"\"\n",
        "    self.noise_std_dev = self.noise_multiplier * self.C\n",
        "    \n",
        "    loss = None\n",
        "    \n",
        "    if closure is not None:\n",
        "      loss = closure()\n",
        "      \n",
        "    # Accumulate the norm of all the grads\n",
        "    norm = 0\n",
        "    \n",
        "    for group in self.param_groups:\n",
        "      for p in group['params']:\n",
        "        if p.grad is None:\n",
        "          continue\n",
        "        grad = p.grad.data\n",
        "        \n",
        "        norm += grad.norm()**2.0\n",
        "        \n",
        "        \n",
        "    norm  = norm ** 0.5\n",
        "    \n",
        "    # Perform gradient clipping\n",
        "    for group in self.param_groups:\n",
        "      for p in group['params']:\n",
        "        grad = p.grad.data\n",
        "        \n",
        "        clipped_grads = grad/torch.max(norm/self.C, torch.ones_like(norm))\n",
        "        \n",
        "        p.grad.data = clipped_grads\n",
        "    \n",
        "    # Add noise to the clipped gradients\n",
        "    for group in self.param_groups:\n",
        "      for p in group['params']:\n",
        "        \n",
        "        noise = torch.zeros_like(p)\n",
        "        noise.normal_(mean=0, std = self.noise_std_dev)\n",
        "#         noise = torch.from_numpy(np.random.laplace(0, beta, p.shape)).float().to(device)\n",
        "        p.grad.data += self.noise_multiplier * noise\n",
        "    \n",
        "    for group in self.param_groups:\n",
        "      weight_decay = group['weight_decay']\n",
        "      momentum = group['momentum']\n",
        "      dampening = group['dampening']\n",
        "      nesterov = group['nesterov']\n",
        "\n",
        "      for p in group['params']:\n",
        "        if p.grad is None:\n",
        "          continue\n",
        "        d_p = p.grad.data\n",
        "        if weight_decay != 0:\n",
        "          d_p.add_(weight_decay, p.data)\n",
        "        if momentum != 0:\n",
        "          param_state = self.state[p]\n",
        "          if 'momentum_buffer' not in param_state:\n",
        "            buf = param_state['momentum_buffer'] = torch.clone(d_p).detach()\n",
        "          else:\n",
        "            buf = param_state['momentum_buffer']\n",
        "            buf.mul_(momentum).add_(1 - dampening, d_p)\n",
        "          if nesterov:\n",
        "            d_p = d_p.add(momentum, buf)\n",
        "          else:\n",
        "            d_p = buf\n",
        "            \n",
        "            \n",
        "        p.data.add_(-group['lr'], d_p)\n",
        "\n",
        "        return loss\n"
      ],
      "execution_count": 0,
      "outputs": []
    },
    {
      "cell_type": "markdown",
      "metadata": {
        "id": "y-h5L0qtSyVd",
        "colab_type": "text"
      },
      "source": [
        "## Load the MNIST Dataset using Torchvision"
      ]
    },
    {
      "cell_type": "code",
      "metadata": {
        "id": "w4JzY5qrS3zt",
        "colab_type": "code",
        "outputId": "47f46913-e9b6-46da-8fd0-9785ffb7e9e1",
        "colab": {
          "base_uri": "https://localhost:8080/",
          "height": 51
        }
      },
      "source": [
        "transforms = torchvision.transforms.Compose([torchvision.transforms.ToTensor(),\n",
        "                                             torchvision.transforms.Normalize((0.5,), (0.5,))])\n",
        "\n",
        "mnist_trainset = torchvision.datasets.MNIST(root='./MNIST_data/', train=True, download=True, transform=transforms)\n",
        "mnist_testset = torchvision.datasets.MNIST(root='./MNIST_data/', train=False, download=True, transform=transforms)\n",
        "print(f'Trainset length: {len(mnist_trainset)}')\n",
        "print(f'Testset: {len(mnist_testset)}')\n",
        "trainloader = torch.utils.data.DataLoader(mnist_trainset, batch_size=64, shuffle=True)\n",
        "testloader = torch.utils.data.DataLoader(mnist_testset, batch_size=64, shuffle=True)\n",
        "\n",
        "classes = [0, 1, 2, 3, 4, 5, 6, 7, 8, 9]"
      ],
      "execution_count": 8,
      "outputs": [
        {
          "output_type": "stream",
          "text": [
            "Trainset length: 60000\n",
            "Testset: 10000\n"
          ],
          "name": "stdout"
        }
      ]
    },
    {
      "cell_type": "code",
      "metadata": {
        "id": "aay2BdLYTVov",
        "colab_type": "code",
        "outputId": "bc5e988e-62ab-403b-9192-c37053dd981c",
        "colab": {
          "base_uri": "https://localhost:8080/",
          "height": 257
        }
      },
      "source": [
        "# To unnormalize the image and put channel after the image height and width.\n",
        "def im_show_process(img):\n",
        "  img = (img / 2) + 0.5 # Unnormalize the image\n",
        "  img = img.numpy()\n",
        "  \n",
        "  # Since, PyTorch needs channels before the height and width and\n",
        "  # matplotlib needs channels afterwards, transpose them to make images compatible.\n",
        "  return np.transpose(img, (1, 2, 0)).reshape(img.shape[1], -1)\n",
        "\n",
        "print(f'Plotting 10 random images from the train set and their corresponding labels...')\n",
        "dataiter = iter(trainloader)\n",
        "images, labels = dataiter.next()\n",
        "\n",
        "f, axarr = plt.subplots(2, 5)\n",
        "\n",
        "for i in range(2):\n",
        "  for j in range(5):\n",
        "    index = np.random.randint(0, 64)\n",
        "    image = im_show_process(images[index])\n",
        "#     image = images[index]\n",
        "    axarr[i, j].imshow(image)\n",
        "    axarr[i, j].set_title(classes[labels[index]])"
      ],
      "execution_count": 9,
      "outputs": [
        {
          "output_type": "stream",
          "text": [
            "Plotting 10 random images from the train set and their corresponding labels...\n"
          ],
          "name": "stdout"
        },
        {
          "output_type": "display_data",
          "data": {
            "image/png": "[encoded data removed]",
            "text/plain": [
              "<Figure size 432x288 with 10 Axes>"
            ]
          },
          "metadata": {
            "tags": []
          }
        }
      ]
    },
    {
      "cell_type": "code",
      "metadata": {
        "id": "TcHn2c_9U48K",
        "colab_type": "code",
        "colab": {
          "base_uri": "https://localhost:8080/",
          "height": 257
        },
        "outputId": "e7f1742b-14ed-4143-f20f-7e91217bfa69"
      },
      "source": [
        "print(f'Plotting 10 random images from the test set and their corresponding labels...')\n",
        "dataiter = iter(testloader)\n",
        "images, labels = dataiter.next()\n",
        "\n",
        "f, axarr = plt.subplots(2, 5)\n",
        "\n",
        "for i in range(2):\n",
        "  for j in range(5):\n",
        "    index = np.random.randint(0, 64)\n",
        "    axarr[i, j].imshow(im_show_process(images[index]))\n",
        "    axarr[i, j].set_title(classes[labels[index]])"
      ],
      "execution_count": 10,
      "outputs": [
        {
          "output_type": "stream",
          "text": [
            "Plotting 10 random images from the test set and their corresponding labels...\n"
          ],
          "name": "stdout"
        },
        {
          "output_type": "display_data",
          "data": {
            "image/png": "[encoded data removed]",
            "text/plain": [
              "<Figure size 432x288 with 10 Axes>"
            ]
          },
          "metadata": {
            "tags": []
          }
        }
      ]
    },
    {
      "cell_type": "markdown",
      "metadata": {
        "id": "d9rnUJKDcxlS",
        "colab_type": "text"
      },
      "source": [
        "## Building the model"
      ]
    },
    {
      "cell_type": "code",
      "metadata": {
        "id": "B9BJ1KuWcsSS",
        "colab_type": "code",
        "outputId": "c2d80813-1415-444e-efbe-3accb0ddeb6b",
        "colab": {
          "base_uri": "https://localhost:8080/",
          "height": 51
        }
      },
      "source": [
        "import torch.nn as nn\n",
        "import torch.nn.functional as F\n",
        "\n",
        "class Model(nn.Module):\n",
        "  \n",
        "  def __init__(self):\n",
        "    super(Model, self).__init__()\n",
        "    \n",
        "    self.conv1 = nn.Conv2d(1, 16, kernel_size=(8,8), stride=2)\n",
        "    self.pool1 = nn.MaxPool2d(kernel_size=(2,2), stride=1)\n",
        "    self.conv2 = nn.Conv2d(16, 32, kernel_size=(4,4), stride=2)\n",
        "    self.pool2 = nn.MaxPool2d(kernel_size=(2,2), stride=1)\n",
        "    \n",
        "    self.fc1 = nn.Linear(288, 128)\n",
        "    self.fc2 = nn.Linear(128, 64)\n",
        "    self.fc3 = nn.Linear(64, 10)\n",
        "    \n",
        "  def forward(self, X):\n",
        "    \n",
        "    # Convert to channels first format\n",
        "    X = X.view(X.shape[0], 1, 28, 28)\n",
        "    \n",
        "    X = self.pool1(F.relu(self.conv1(X)))\n",
        "    X = self.pool2(F.relu(self.conv2(X)))\n",
        "    \n",
        "    X = X.view(X.shape[0], -1)\n",
        "#     print(X.shape)\n",
        "    \n",
        "    hidden = F.relu(self.fc1(X))\n",
        "    hidden = F.relu(self.fc2(hidden))\n",
        "    \n",
        "    return self.fc3(hidden)\n",
        "  \n",
        "model = Model()\n",
        "image = torch.randn((64, 28, 28, 1))\n",
        "print(f\"Image's shape before inputting: {image.shape}\")\n",
        "image = model(image)\n",
        "print(f'Output image shape: {image.shape}')"
      ],
      "execution_count": 11,
      "outputs": [
        {
          "output_type": "stream",
          "text": [
            "Image's shape before inputting: torch.Size([64, 28, 28, 1])\n",
            "Output image shape: torch.Size([64, 10])\n"
          ],
          "name": "stdout"
        }
      ]
    },
    {
      "cell_type": "markdown",
      "metadata": {
        "id": "0JT5lwh_iyZa",
        "colab_type": "text"
      },
      "source": [
        "##Defining some parameters and criterion, optimizer"
      ]
    },
    {
      "cell_type": "code",
      "metadata": {
        "id": "13Uj99f2fHYM",
        "colab_type": "code",
        "colab": {}
      },
      "source": [
        "epsilon = 3.01\n",
        "beta = 1/epsilon\n",
        "lr = 0.15\n",
        "epochs = 150\n",
        "train_loss = []\n",
        "validation_loss = []\n",
        "validation_acc = []\n",
        "\n",
        "running_loss = 0\n",
        "\n",
        "model = Model().to(device)\n",
        "criterion = nn.CrossEntropyLoss()\n",
        "# optimizer = torch.optim.SGD(model.parameters(), lr=lr)\n",
        "optimizer = DPSGD(model.parameters(), lr=lr, C=4, noise_multiplier=0.1)"
      ],
      "execution_count": 0,
      "outputs": []
    },
    {
      "cell_type": "markdown",
      "metadata": {
        "id": "_L4sqwMvjTJg",
        "colab_type": "text"
      },
      "source": [
        "###Training the model"
      ]
    },
    {
      "cell_type": "code",
      "metadata": {
        "id": "uMLUVCgZjVei",
        "colab_type": "code",
        "outputId": "76fece41-85b0-41b7-d3ad-e2372de64703",
        "colab": {
          "base_uri": "https://localhost:8080/",
          "height": 1000
        }
      },
      "source": [
        "for epoch in range(epochs):\n",
        "\n",
        "  for inputs, labels in trainloader:\n",
        "    inputs, labels = inputs.to(device), labels.to(device)\n",
        "    optimizer.zero_grad()\n",
        "\n",
        "    logps = model(inputs)\n",
        "    loss = criterion(logps, labels)\n",
        "    loss.backward()\n",
        "\n",
        "    # Perform gradient clipping in l2 norm\n",
        "#     for params in model.parameters():\n",
        "#       print(params.shape)\n",
        "      \n",
        "#     nn.utils.clip_grad_norm_(model.parameters(), 4)\n",
        "    \n",
        "#     for params in model.parameters():\n",
        "#       noise = torch.from_numpy(np.random.laplace(0, beta, params.shape)).float().to(device)\n",
        "#       params.grad += 1.1 * noise\n",
        "    \n",
        "    optimizer.step()\n",
        "    running_loss += loss.item()\n",
        "  \n",
        "  else:\n",
        "    test_loss = 0\n",
        "    accuracy = 0\n",
        "    model.eval()\n",
        "    with torch.no_grad():\n",
        "      for inputs, labels in testloader:\n",
        "        inputs, labels = inputs.to(device), labels.to(device)\n",
        "        logps = model(inputs)\n",
        "        batch_loss = criterion(logps, labels)\n",
        "        \n",
        "        test_loss += batch_loss.item()\n",
        "         \n",
        "        # Calculate accuracy\n",
        "        ps = torch.exp(logps)\n",
        "        top_p, top_class = ps.topk(1, dim=1)\n",
        "        equals = top_class == labels.view(*top_class.shape)\n",
        "        accuracy += torch.mean(equals.type(torch.FloatTensor)).item()\n",
        "          \n",
        "      print(f\"Epoch {epoch+1}/{epochs}.. \"\n",
        "            f\"Train loss: {running_loss/len(trainloader):.8f}.. \"\n",
        "            f\"Test loss: {test_loss/len(testloader):.8f}.. \"\n",
        "            f\"Test accuracy: {accuracy/len(testloader):.8f}\")\n",
        "      train_loss.append(running_loss/len(trainloader))\n",
        "      validation_loss.append(test_loss/len(testloader))\n",
        "      validation_acc.append(accuracy/(len(testloader)))\n",
        "      running_loss = 0\n",
        "      model.train()\n"
      ],
      "execution_count": 0,
      "outputs": [
        {
          "output_type": "stream",
          "text": [
            "Epoch 1/150.. Train loss: 2.28299243.. Test loss: 2.25483374.. Test accuracy: 0.23089172\n",
            "Epoch 2/150.. Train loss: 2.23332265.. Test loss: 2.21078662.. Test accuracy: 0.25437898\n",
            "Epoch 3/150.. Train loss: 2.19103020.. Test loss: 2.17275444.. Test accuracy: 0.25019904\n",
            "Epoch 4/150.. Train loss: 2.15408561.. Test loss: 2.13768285.. Test accuracy: 0.24810908\n",
            "Epoch 5/150.. Train loss: 2.12055210.. Test loss: 2.10447360.. Test accuracy: 0.25189092\n",
            "Epoch 6/150.. Train loss: 2.08668573.. Test loss: 2.07148413.. Test accuracy: 0.28921178\n",
            "Epoch 7/150.. Train loss: 2.05800745.. Test loss: 2.04347800.. Test accuracy: 0.32195462\n",
            "Epoch 8/150.. Train loss: 2.02824059.. Test loss: 2.01638429.. Test accuracy: 0.33976911\n",
            "Epoch 9/150.. Train loss: 2.00866950.. Test loss: 1.99938598.. Test accuracy: 0.38067277\n",
            "Epoch 10/150.. Train loss: 1.98894327.. Test loss: 1.97957861.. Test accuracy: 0.37957803\n",
            "Epoch 11/150.. Train loss: 1.97074634.. Test loss: 1.96338227.. Test accuracy: 0.38345939\n",
            "Epoch 12/150.. Train loss: 1.95631390.. Test loss: 1.94644544.. Test accuracy: 0.39570064\n",
            "Epoch 13/150.. Train loss: 1.93989896.. Test loss: 1.93382243.. Test accuracy: 0.41381369\n",
            "Epoch 14/150.. Train loss: 1.92389655.. Test loss: 1.91840644.. Test accuracy: 0.40993232\n",
            "Epoch 15/150.. Train loss: 1.91235669.. Test loss: 1.90658546.. Test accuracy: 0.42157643\n",
            "Epoch 16/150.. Train loss: 1.89970777.. Test loss: 1.89530490.. Test accuracy: 0.40943471\n",
            "Epoch 17/150.. Train loss: 1.88870207.. Test loss: 1.88283318.. Test accuracy: 0.42157643\n",
            "Epoch 18/150.. Train loss: 1.87855003.. Test loss: 1.87306266.. Test accuracy: 0.42784634\n",
            "Epoch 19/150.. Train loss: 1.87123682.. Test loss: 1.86346943.. Test accuracy: 0.43043392\n",
            "Epoch 20/150.. Train loss: 1.85860855.. Test loss: 1.85337282.. Test accuracy: 0.43521099\n",
            "Epoch 21/150.. Train loss: 1.84689681.. Test loss: 1.84284551.. Test accuracy: 0.43093153\n",
            "Epoch 22/150.. Train loss: 1.84055200.. Test loss: 1.83637492.. Test accuracy: 0.43172771\n",
            "Epoch 23/150.. Train loss: 1.83273416.. Test loss: 1.82688936.. Test accuracy: 0.43401672\n",
            "Epoch 24/150.. Train loss: 1.82500631.. Test loss: 1.81953029.. Test accuracy: 0.43391720\n",
            "Epoch 25/150.. Train loss: 1.81676991.. Test loss: 1.81377041.. Test accuracy: 0.44357086\n",
            "Epoch 26/150.. Train loss: 1.80874993.. Test loss: 1.80427639.. Test accuracy: 0.43899283\n",
            "Epoch 27/150.. Train loss: 1.80360005.. Test loss: 1.80097994.. Test accuracy: 0.43351911\n",
            "Epoch 28/150.. Train loss: 1.79715798.. Test loss: 1.79456463.. Test accuracy: 0.43401672\n",
            "Epoch 29/150.. Train loss: 1.79145678.. Test loss: 1.78646785.. Test accuracy: 0.43491242\n",
            "Epoch 30/150.. Train loss: 1.78169618.. Test loss: 1.77965664.. Test accuracy: 0.44128185\n",
            "Epoch 31/150.. Train loss: 1.77553015.. Test loss: 1.76893043.. Test accuracy: 0.44765127\n",
            "Epoch 32/150.. Train loss: 1.76944765.. Test loss: 1.76660164.. Test accuracy: 0.44904459\n",
            "Epoch 33/150.. Train loss: 1.76418746.. Test loss: 1.75936828.. Test accuracy: 0.45282643\n",
            "Epoch 34/150.. Train loss: 1.75797319.. Test loss: 1.75516161.. Test accuracy: 0.45033838\n",
            "Epoch 35/150.. Train loss: 1.75335483.. Test loss: 1.75174671.. Test accuracy: 0.44556131\n",
            "Epoch 36/150.. Train loss: 1.74995664.. Test loss: 1.74754049.. Test accuracy: 0.44566083\n",
            "Epoch 37/150.. Train loss: 1.74607256.. Test loss: 1.74543672.. Test accuracy: 0.44386943\n",
            "Epoch 38/150.. Train loss: 1.74379038.. Test loss: 1.74411453.. Test accuracy: 0.44217755\n",
            "Epoch 39/150.. Train loss: 1.74337314.. Test loss: 1.74451567.. Test accuracy: 0.44207803\n",
            "Epoch 40/150.. Train loss: 1.74128576.. Test loss: 1.73905698.. Test accuracy: 0.44655653\n",
            "Epoch 41/150.. Train loss: 1.73534780.. Test loss: 1.73286174.. Test accuracy: 0.44595939\n",
            "Epoch 42/150.. Train loss: 1.72915336.. Test loss: 1.72608971.. Test accuracy: 0.44655653\n",
            "Epoch 43/150.. Train loss: 1.72447189.. Test loss: 1.72027332.. Test accuracy: 0.44695462\n",
            "Epoch 44/150.. Train loss: 1.72078094.. Test loss: 1.71834660.. Test accuracy: 0.44526274\n",
            "Epoch 45/150.. Train loss: 1.71860189.. Test loss: 1.71521520.. Test accuracy: 0.44705414\n",
            "Epoch 46/150.. Train loss: 1.71085072.. Test loss: 1.70782406.. Test accuracy: 0.45282643\n",
            "Epoch 47/150.. Train loss: 1.70690766.. Test loss: 1.70436344.. Test accuracy: 0.44804936\n",
            "Epoch 48/150.. Train loss: 1.70581426.. Test loss: 1.70402911.. Test accuracy: 0.45173169\n",
            "Epoch 49/150.. Train loss: 1.70386330.. Test loss: 1.70375708.. Test accuracy: 0.44745223\n",
            "Epoch 50/150.. Train loss: 1.70157620.. Test loss: 1.69950238.. Test accuracy: 0.45232882\n",
            "Epoch 51/150.. Train loss: 1.69803797.. Test loss: 1.69399393.. Test accuracy: 0.45730494\n",
            "Epoch 52/150.. Train loss: 1.69420566.. Test loss: 1.69228146.. Test accuracy: 0.45780255\n",
            "Epoch 53/150.. Train loss: 1.69224062.. Test loss: 1.68878314.. Test accuracy: 0.45471736\n",
            "Epoch 54/150.. Train loss: 1.68778965.. Test loss: 1.68350576.. Test accuracy: 0.45820064\n",
            "Epoch 55/150.. Train loss: 1.68362119.. Test loss: 1.68097267.. Test accuracy: 0.46118631\n",
            "Epoch 56/150.. Train loss: 1.68203210.. Test loss: 1.67772386.. Test accuracy: 0.46148487\n",
            "Epoch 57/150.. Train loss: 1.67915193.. Test loss: 1.67648142.. Test accuracy: 0.45700637\n",
            "Epoch 58/150.. Train loss: 1.67790277.. Test loss: 1.67135447.. Test accuracy: 0.46148487\n",
            "Epoch 59/150.. Train loss: 1.67517960.. Test loss: 1.67265797.. Test accuracy: 0.46287818\n",
            "Epoch 60/150.. Train loss: 1.67358595.. Test loss: 1.66915130.. Test accuracy: 0.46277866\n",
            "Epoch 61/150.. Train loss: 1.67224039.. Test loss: 1.66829221.. Test accuracy: 0.45929538\n",
            "Epoch 62/150.. Train loss: 1.67074527.. Test loss: 1.66672553.. Test accuracy: 0.46248010\n",
            "Epoch 63/150.. Train loss: 1.66953720.. Test loss: 1.66373200.. Test accuracy: 0.46248010\n",
            "Epoch 64/150.. Train loss: 1.66724550.. Test loss: 1.66602019.. Test accuracy: 0.45770303\n",
            "Epoch 65/150.. Train loss: 1.66696570.. Test loss: 1.66153090.. Test accuracy: 0.46118631\n",
            "Epoch 66/150.. Train loss: 1.66325730.. Test loss: 1.65698854.. Test accuracy: 0.46526672\n",
            "Epoch 67/150.. Train loss: 1.65996985.. Test loss: 1.65682614.. Test accuracy: 0.46347532\n",
            "Epoch 68/150.. Train loss: 1.65939256.. Test loss: 1.65728263.. Test accuracy: 0.46297771\n",
            "Epoch 69/150.. Train loss: 1.65945602.. Test loss: 1.65769713.. Test accuracy: 0.46566481\n",
            "Epoch 70/150.. Train loss: 1.65898243.. Test loss: 1.65833814.. Test accuracy: 0.46297771\n",
            "Epoch 71/150.. Train loss: 1.65756339.. Test loss: 1.65678479.. Test accuracy: 0.46138535\n",
            "Epoch 72/150.. Train loss: 1.65617460.. Test loss: 1.65383724.. Test accuracy: 0.46267914\n"
          ],
          "name": "stdout"
        }
      ]
    },
    {
      "cell_type": "code",
      "metadata": {
        "id": "gS-MiWq5mBFe",
        "colab_type": "code",
        "outputId": "1b235ee6-f514-4b95-9191-f5944e496a54",
        "colab": {
          "base_uri": "https://localhost:8080/",
          "height": 312
        }
      },
      "source": [
        "# Plot the training losses.\n",
        "plt.plot(train_loss, color='r')\n",
        "plt.xlabel('Epochs')\n",
        "plt.ylabel('Loss')\n",
        "plt.title('Training Losses')"
      ],
      "execution_count": 18,
      "outputs": [
        {
          "output_type": "execute_result",
          "data": {
            "text/plain": [
              "Text(0.5, 1.0, 'Training Losses')"
            ]
          },
          "metadata": {
            "tags": []
          },
          "execution_count": 18
        },
        {
          "output_type": "display_data",
          "data": {
            "image/png": "[encoded data removed]",
            "text/plain": [
              "<Figure size 432x288 with 1 Axes>"
            ]
          },
          "metadata": {
            "tags": []
          }
        }
      ]
    },
    {
      "cell_type": "code",
      "metadata": {
        "id": "lu_2oNWeMBB3",
        "colab_type": "code",
        "outputId": "ff5b944c-5d38-4455-ae58-6f4fca0b3690",
        "colab": {
          "base_uri": "https://localhost:8080/",
          "height": 312
        }
      },
      "source": [
        "# Plot Validation losses\n",
        "\n",
        "plt.plot(validation_loss, color='r')\n",
        "plt.xlabel('Epochs')\n",
        "plt.ylabel('Loss')\n",
        "plt.title('Validation Losses')"
      ],
      "execution_count": 19,
      "outputs": [
        {
          "output_type": "execute_result",
          "data": {
            "text/plain": [
              "Text(0.5, 1.0, 'Validation Losses')"
            ]
          },
          "metadata": {
            "tags": []
          },
          "execution_count": 19
        },
        {
          "output_type": "display_data",
          "data": {
            "image/png": "[encoded data removed]",
            "text/plain": [
              "<Figure size 432x288 with 1 Axes>"
            ]
          },
          "metadata": {
            "tags": []
          }
        }
      ]
    },
    {
      "cell_type": "code",
      "metadata": {
        "id": "RJFNXf4BMEJm",
        "colab_type": "code",
        "outputId": "d7aa2727-df66-44de-84f6-67acd3186492",
        "colab": {
          "base_uri": "https://localhost:8080/",
          "height": 312
        }
      },
      "source": [
        "# Plot the validation accuracy\n",
        "plt.plot(validation_acc, color='r')\n",
        "plt.xlabel('Epochs')\n",
        "plt.ylabel('Accuracy')\n",
        "plt.title('Validation Accuracy')"
      ],
      "execution_count": 20,
      "outputs": [
        {
          "output_type": "execute_result",
          "data": {
            "text/plain": [
              "Text(0.5, 1.0, 'Validation Accuracy')"
            ]
          },
          "metadata": {
            "tags": []
          },
          "execution_count": 20
        },
        {
          "output_type": "display_data",
          "data": {
            "image/png": "[encoded data removed]",
            "text/plain": [
              "<Figure size 432x288 with 1 Axes>"
            ]
          },
          "metadata": {
            "tags": []
          }
        }
      ]
    },
    {
      "cell_type": "code",
      "metadata": {
        "id": "-xqESknTMGXx",
        "colab_type": "code",
        "colab": {}
      },
      "source": [
        ""
      ],
      "execution_count": 0,
      "outputs": []
    }
  ]
}